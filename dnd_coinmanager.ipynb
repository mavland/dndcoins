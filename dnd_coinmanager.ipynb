{
  "nbformat": 4,
  "nbformat_minor": 0,
  "metadata": {
    "colab": {
      "name": "dnd_coinmanager.ipynb",
      "provenance": [],
      "toc_visible": true
    },
    "kernelspec": {
      "name": "python3",
      "display_name": "Python 3"
    },
    "language_info": {
      "name": "python"
    }
  },
  "cells": [
    {
      "cell_type": "markdown",
      "source": [
        "dnd online banking code!"
      ],
      "metadata": {
        "id": "ixPcNaU3tQOK"
      }
    },
    {
      "cell_type": "markdown",
      "source": [
        "# Some functions"
      ],
      "metadata": {
        "id": "jORXXmkktKVK"
      }
    },
    {
      "cell_type": "markdown",
      "source": [
        "Defines the transaction function and the persistent memory of the file pickledtable, which stores the most recent transaction and uses it as the initial value for the next run."
      ],
      "metadata": {
        "id": "9Z3LQpFct_uZ"
      }
    },
    {
      "cell_type": "code",
      "execution_count": 1,
      "metadata": {
        "id": "FGw3lX4lWAB7"
      },
      "outputs": [],
      "source": [
        "import numpy as np\n",
        "import pandas as pd\n",
        "import pickle\n"
      ]
    },
    {
      "cell_type": "code",
      "source": [
        "def transact(tvec,pvec, action):\n",
        "  \n",
        "  if action == \"add\":\n",
        "    ivec = pvec+tvec\n",
        "\n",
        "    if ivec[2] > 10:\n",
        "      ivec[1] = ivec[1] + (np.floor(ivec[2]/10))\n",
        "    \n",
        "      ivec[2] = ivec[2] % 10\n",
        "      \n",
        "    if ivec[1] > 10:\n",
        "      ivec[0] = ivec[0] + (np.floor(ivec[1]/10))\n",
        "      ivec[1] = ivec[1] % 10\n",
        "\n",
        "\n",
        "  if action == \"subtract\":\n",
        "\n",
        "\n",
        "  \n",
        "    ivec = pvec-tvec\n",
        "    i_g = ivec[0]\n",
        "    i_s = ivec[1]\n",
        "    i_c = ivec[2]\n",
        "\n",
        "    if i_c < 0:\n",
        "      m = -i_c / 10\n",
        "      m1 = np.floor(m)\n",
        "      m2 = i_c % 10\n",
        "      i_s = i_s - m1\n",
        "      i_c2 = i_c+10*m1\n",
        "\n",
        "      \n",
        "      if i_c2 < 0:\n",
        "       \n",
        "        i_s = i_s - 1\n",
        "        i_c = m2\n",
        "        \n",
        "\n",
        "\n",
        "    if i_s < 0:\n",
        "      c = -i_s / 10\n",
        "      c1 = np.floor(c)\n",
        "      c2 = i_s % 10\n",
        "      i_g = i_g - c1\n",
        "      i_s = i_s+10*c1\n",
        "      if i_s < 0:\n",
        "        i_g = i_g - 1\n",
        "        i_s = c2\n",
        "\n",
        "  \n",
        "    if i_g < 0:\n",
        "      print('You are out of gold :(')\n",
        "\n",
        "   \n",
        "      \n",
        "\n",
        "    ivec[0] = i_g\n",
        "    ivec[1] = i_s \n",
        "    ivec[2] = i_c\n",
        "\n",
        "    if ivec[2] > 10:\n",
        "      ivec[1] = ivec[1] + (np.floor(ivec[2]/10))\n",
        "    \n",
        "      ivec[2] = ivec[2] % 10\n",
        "      \n",
        "    if ivec[1] > 10:\n",
        "      ivec[0] = ivec[0] + (np.floor(ivec[1]/10))\n",
        "      ivec[1] = ivec[1] % 10\n",
        "\n",
        "\n",
        "\n",
        "\n",
        "\n",
        "  # print(\"Current values:\")\n",
        "\n",
        "  # print(\"Gold: \",ivec[0],\"Silver: \",ivec[1],\"Copper: \",ivec[2])\n",
        "  logentry = pd.DataFrame(np.array([ivec]),\n",
        "               columns=['Gold', 'Silver', 'Copper'])\n",
        "  return(ivec,logentry)"
      ],
      "metadata": {
        "id": "cDvWmIDgWIsI"
      },
      "execution_count": 2,
      "outputs": []
    },
    {
      "cell_type": "markdown",
      "source": [
        "# Transaction code"
      ],
      "metadata": {
        "id": "v_y2yDNvtUdH"
      }
    },
    {
      "cell_type": "markdown",
      "source": [
        "For the first run only:"
      ],
      "metadata": {
        "id": "utKUEEINVrxO"
      }
    },
    {
      "cell_type": "code",
      "source": [
        "#Initial pvec ONLY FIRST RUN \n",
        "pt_g = int(input(\"Enter gold:   \"),10)\n",
        "pt_s = int(input(\"Enter silver:   \"),10)\n",
        "pt_c = int(input(\"Enter copper:   \"),10)\n",
        "pvec = np.array([pt_g,pt_s,pt_c])"
      ],
      "metadata": {
        "colab": {
          "base_uri": "https://localhost:8080/"
        },
        "id": "QhK7ciulVq_Z",
        "outputId": "894af32f-99f4-4871-97af-ef2bc655f501"
      },
      "execution_count": 3,
      "outputs": [
        {
          "name": "stdout",
          "output_type": "stream",
          "text": [
            "Enter gold:   40\n",
            "Enter silver:   40\n",
            "Enter copper:   40\n"
          ]
        }
      ]
    },
    {
      "cell_type": "markdown",
      "source": [
        "Every run after first (last pvec stored in pickled file)"
      ],
      "metadata": {
        "id": "DGNxzCBvXy9C"
      }
    },
    {
      "cell_type": "code",
      "source": [
        "#pvec load in FOR ALL FUTURE RUNS\n",
        "filename = \"pickledtable.pk\"\n",
        "with open(filename,'rb') as file:\n",
        "  x = pickle.load(file)\n",
        "\n",
        "#setting initial values from pickled file\n",
        "m = np.array(x)\n",
        "pvec = np.array([m[0][0],m[0][1],m[0][2]])\n"
      ],
      "metadata": {
        "id": "0SfBydvUXHmj"
      },
      "execution_count": 3,
      "outputs": []
    },
    {
      "cell_type": "code",
      "source": [
        "\n",
        "transactlog = pd.DataFrame(np.array([pvec]),\n",
        "                   columns=['Gold', 'Silver', 'Copper'])"
      ],
      "metadata": {
        "id": "8pUN1eFQWJWP"
      },
      "execution_count": 4,
      "outputs": []
    },
    {
      "cell_type": "code",
      "source": [
        "#entering transactlog into file\n",
        "filename = \"pickledtable.pk\"\n",
        "with open(filename,'wb') as file:\n",
        "  pickle.dump(transactlog,file)"
      ],
      "metadata": {
        "id": "vbOr5Argji8-"
      },
      "execution_count": 5,
      "outputs": []
    },
    {
      "cell_type": "markdown",
      "source": [
        "Transaction!"
      ],
      "metadata": {
        "id": "5UYNxr7ju_Yo"
      }
    },
    {
      "cell_type": "code",
      "source": [
        "#new transaction\n",
        "gold = int(input(\"Enter gold:   \"),10)\n",
        "\n",
        "silver = int(input(\"Enter silver:   \"),10)\n",
        "copper = int(input(\"Enter copper:   \"),10)\n",
        "\n",
        "act = input(\"Add or subtract? \")\n",
        "\n",
        "print('Previous values:')\n",
        "print(\"Gold: \",pvec[0],\"Silver: \",pvec[1],\"Copper: \",pvec[2])\n",
        "print(\"                \")\n",
        "\n",
        "\n",
        "tvec = np.array([gold,silver,copper])\n",
        "\n",
        "pvec,logupdate = transact(tvec,pvec,act)\n",
        "\n",
        "transactlog = pd.concat([transactlog,logupdate],ignore_index = True)\n",
        "\n",
        "with open(filename,'wb') as file:\n",
        "  pickle.dump(logupdate,file)\n",
        "\n",
        "print('Updated values:')\n",
        "print(\"Gold: \",pvec[0],\"Silver: \",pvec[1],\"Copper: \",pvec[2])"
      ],
      "metadata": {
        "colab": {
          "base_uri": "https://localhost:8080/"
        },
        "id": "EQzQrrjIWO9d",
        "outputId": "6d558fd2-f04b-4300-9b0c-ab54aaf91343"
      },
      "execution_count": 6,
      "outputs": [
        {
          "output_type": "stream",
          "name": "stdout",
          "text": [
            "Enter gold:   2\n",
            "Enter silver:   3\n",
            "Enter copper:   4\n",
            "Add or subtract? add\n",
            "Previous values:\n",
            "Gold:  54 Silver:  6 Copper:  2\n",
            "                \n",
            "Updated values:\n",
            "Gold:  56 Silver:  9 Copper:  6\n"
          ]
        }
      ]
    },
    {
      "cell_type": "code",
      "source": [
        "filename = \"pickledtable.pk\"\n",
        "with open(filename,'rb') as file:\n",
        "  x = pickle.load(file)\n",
        "\n",
        "#setting initial values from pickled file\n",
        "m = np.array(x)\n",
        "pvec = np.array([m[0][0],m[0][1],m[0][2]])\n",
        "\n",
        "#print to check pvec is accurate to most recent action:\n",
        "print(pvec)\n"
      ],
      "metadata": {
        "colab": {
          "base_uri": "https://localhost:8080/"
        },
        "id": "Bf3_O4_pndKl",
        "outputId": "b9992a36-64b4-463b-fe8b-49645937deda"
      },
      "execution_count": 10,
      "outputs": [
        {
          "output_type": "stream",
          "name": "stdout",
          "text": [
            "[54  6  2]\n"
          ]
        }
      ]
    },
    {
      "cell_type": "markdown",
      "source": [
        "If you're interested in the log of transactions:"
      ],
      "metadata": {
        "id": "UHU5OsHkvS9I"
      }
    },
    {
      "cell_type": "code",
      "source": [
        "#Printing record of transactions\n",
        "print(transactlog)"
      ],
      "metadata": {
        "colab": {
          "base_uri": "https://localhost:8080/"
        },
        "id": "ZcdIXDAqc2WQ",
        "outputId": "71a36a41-f92e-45e8-c1f6-ee683294b90d"
      },
      "execution_count": 12,
      "outputs": [
        {
          "output_type": "stream",
          "name": "stdout",
          "text": [
            "   Gold  Silver  Copper\n",
            "0   500     300       5\n",
            "1   535       5      10\n"
          ]
        }
      ]
    },
    {
      "cell_type": "markdown",
      "source": [
        "# Delete/reset row"
      ],
      "metadata": {
        "id": "QEWrro6ktZy_"
      }
    },
    {
      "cell_type": "code",
      "source": [
        "#Can delete a row and reset pvec in case of a typing mistake\n",
        "def deletetransaction(transactlog,i):\n",
        "  transactlog = transactlog.drop(i)\n",
        "  pvec = np.array(transactlog.iloc[-1].tolist())\n",
        "  with open(filename,'wb') as file:\n",
        "    pickle.dump(pvec,file)\n",
        "  return(pvec,transactlog)"
      ],
      "metadata": {
        "id": "Res_cIeeepC9"
      },
      "execution_count": null,
      "outputs": []
    },
    {
      "cell_type": "code",
      "source": [
        "#pvec,transactlog = deletetransaction(transactlog,2)"
      ],
      "metadata": {
        "id": "uIbE5qXzfsO2"
      },
      "execution_count": null,
      "outputs": []
    }
  ]
}